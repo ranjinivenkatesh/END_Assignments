{
  "nbformat": 4,
  "nbformat_minor": 0,
  "metadata": {
    "colab": {
      "name": "Assignment8_PythonPrograms.ipynb",
      "provenance": [],
      "collapsed_sections": [],
      "authorship_tag": "ABX9TyNw9ggq8IquhhVTCXvFbuK1",
      "include_colab_link": true
    },
    "kernelspec": {
      "name": "python3",
      "display_name": "Python 3"
    }
  },
  "cells": [
    {
      "cell_type": "markdown",
      "metadata": {
        "id": "view-in-github",
        "colab_type": "text"
      },
      "source": [
        "<a href=\"https://colab.research.google.com/github/ranjinivenkatesh/END_Assignments/blob/main/Assignment8_PythonPrograms.ipynb\" target=\"_parent\"><img src=\"https://colab.research.google.com/assets/colab-badge.svg\" alt=\"Open In Colab\"/></a>"
      ]
    },
    {
      "cell_type": "code",
      "metadata": {
        "id": "lEynl3TkiNkE"
      },
      "source": [
        ""
      ],
      "execution_count": null,
      "outputs": []
    },
    {
      "cell_type": "markdown",
      "metadata": {
        "id": "6BBoB0XRiEl3"
      },
      "source": [
        "\r\n",
        "\r\n",
        "program-1\r\n",
        "\r\n"
      ]
    },
    {
      "cell_type": "code",
      "metadata": {
        "colab": {
          "base_uri": "https://localhost:8080/"
        },
        "id": "grqrD5S5YBZI",
        "outputId": "1ca42ce3-d986-45a0-f2de-ad8367ab3823"
      },
      "source": [
        "\r\n",
        "# write a python program to add two numbers\r\n",
        "num1 = 1.5\r\n",
        "num2 = 6.3\r\n",
        "sum = num1 + num2\r\n",
        "print(f'Sum: {sum}')"
      ],
      "execution_count": null,
      "outputs": [
        {
          "output_type": "stream",
          "text": [
            "Sum: 7.8\n"
          ],
          "name": "stdout"
        }
      ]
    },
    {
      "cell_type": "markdown",
      "metadata": {
        "id": "IesNsO5Th8Ne"
      },
      "source": [
        "Program-2"
      ]
    },
    {
      "cell_type": "code",
      "metadata": {
        "id": "kgjDwH4maXqN"
      },
      "source": [
        "\r\n",
        "# write a python function to add two user provided numbers and return the sum\r\n",
        "def add_two_numbers(num1, num2): \r\n",
        "     sum = num1 + num2  \r\n",
        "     return sum"
      ],
      "execution_count": null,
      "outputs": []
    },
    {
      "cell_type": "markdown",
      "metadata": {
        "id": "K7vd4Z7Rh3Wc"
      },
      "source": [
        "Program-3"
      ]
    },
    {
      "cell_type": "code",
      "metadata": {
        "colab": {
          "base_uri": "https://localhost:8080/"
        },
        "id": "c7f7q-braizM",
        "outputId": "6ace9685-8308-4139-a671-f9a2bb43333b"
      },
      "source": [
        "\r\n",
        "# write a program to find and print the largest among three numbers\r\n",
        "num1 = 10\r\n",
        "num2 = 12\r\n",
        "num3 = 14\r\n",
        "if (num1 >= num2) and (num1 >= num3): \r\n",
        "    largest = num1\r\n",
        "elif (num2 >= num1) and (num2 >= num3):  \r\n",
        "    largest = num2\r\n",
        "else:   largest = num3\r\n",
        "print(f'largest:{largest}')"
      ],
      "execution_count": null,
      "outputs": [
        {
          "output_type": "stream",
          "text": [
            "largest:14\n"
          ],
          "name": "stdout"
        }
      ]
    },
    {
      "cell_type": "markdown",
      "metadata": {
        "id": "K3lE72bHh0Ok"
      },
      "source": [
        "Progam-4"
      ]
    },
    {
      "cell_type": "code",
      "metadata": {
        "colab": {
          "base_uri": "https://localhost:8080/"
        },
        "id": "CDv9KYz-cnuE",
        "outputId": "0b6602f2-c92c-42d6-bb5a-fad5f54de403"
      },
      "source": [
        "\r\n",
        "#write program to find numbers divisible betwen 2000 and 3200\r\n",
        "def divisibility(number1, number2,divisor):\r\n",
        "  for i in range(number1,number2):\r\n",
        "    if (i%divisor == 0):\r\n",
        "        print(i,end=',')\r\n",
        "print(\"\\b\")"
      ],
      "execution_count": null,
      "outputs": [
        {
          "output_type": "stream",
          "text": [
            "\b\n"
          ],
          "name": "stdout"
        }
      ]
    },
    {
      "cell_type": "markdown",
      "metadata": {
        "id": "KY3aZowshv78"
      },
      "source": [
        "Progam-5"
      ]
    },
    {
      "cell_type": "code",
      "metadata": {
        "id": "xWNUirQ-eDOF"
      },
      "source": [
        "\r\n",
        "#write a progream to find the factorial of a number \r\n",
        "def fact(n):\r\n",
        "  if(n==0):\r\n",
        "    return 1\r\n",
        "  else:\r\n",
        "    return(n*fact(n-1))\r\n",
        "\r\n"
      ],
      "execution_count": null,
      "outputs": []
    },
    {
      "cell_type": "code",
      "metadata": {
        "colab": {
          "base_uri": "https://localhost:8080/"
        },
        "id": "JUHS5VjDem2U",
        "outputId": "a3104203-801a-4979-8932-689ad9228181"
      },
      "source": [
        "n = fact(4)\r\n",
        "print(n)"
      ],
      "execution_count": null,
      "outputs": [
        {
          "output_type": "stream",
          "text": [
            "24\n"
          ],
          "name": "stdout"
        }
      ]
    },
    {
      "cell_type": "markdown",
      "metadata": {
        "id": "peUMBRL_htc9"
      },
      "source": [
        "Program-6"
      ]
    },
    {
      "cell_type": "code",
      "metadata": {
        "id": "jdAPmdzeewv8"
      },
      "source": [
        "#write a program to swap two numbers\r\n",
        "def swap(numb1, numb2):\r\n",
        "  numb1,numb2 = numb2, numb1\r\n",
        "  "
      ],
      "execution_count": null,
      "outputs": []
    },
    {
      "cell_type": "code",
      "metadata": {
        "colab": {
          "base_uri": "https://localhost:8080/"
        },
        "id": "X-443rsbgnef",
        "outputId": "f19f5c74-f946-44d8-d993-1d8233b347b2"
      },
      "source": [
        "x=4\r\n",
        "y=6\r\n",
        "swap(x,y)\r\n",
        "print(\"x=\",x)\r\n",
        "print(\"y=\",y)"
      ],
      "execution_count": null,
      "outputs": [
        {
          "output_type": "stream",
          "text": [
            "numb1 = 6\n",
            "numb2 = 4\n",
            "x= 4\n",
            "y= 6\n"
          ],
          "name": "stdout"
        }
      ]
    },
    {
      "cell_type": "markdown",
      "metadata": {
        "id": "TzY-JdNhiUNb"
      },
      "source": [
        "Program-7"
      ]
    },
    {
      "cell_type": "code",
      "metadata": {
        "id": "Q074C2fdiTn6"
      },
      "source": [
        "#write a program to check if number is prime\r\n",
        "def primenumber(num):\r\n",
        "  if num > 1:\r\n",
        "    for i in range(2,num+1):\r\n",
        "       if (num % i) == 0:\r\n",
        "           break\r\n",
        "    if(i==num):\r\n",
        "      return True\r\n",
        "    else:\r\n",
        "      return False\r\n",
        "       \r\n"
      ],
      "execution_count": null,
      "outputs": []
    },
    {
      "cell_type": "code",
      "metadata": {
        "colab": {
          "base_uri": "https://localhost:8080/"
        },
        "id": "chYpPFe_khol",
        "outputId": "7263d42a-2976-4258-c148-6e7ec2b98e29"
      },
      "source": [
        "x = primenumber(43)\r\n",
        "print(x)"
      ],
      "execution_count": null,
      "outputs": [
        {
          "output_type": "stream",
          "text": [
            "True\n"
          ],
          "name": "stdout"
        }
      ]
    },
    {
      "cell_type": "code",
      "metadata": {
        "id": "01Z1Kw2Uldss"
      },
      "source": [
        ""
      ],
      "execution_count": null,
      "outputs": []
    },
    {
      "cell_type": "markdown",
      "metadata": {
        "id": "T4rQH1hulU9q"
      },
      "source": [
        "Program-8"
      ]
    },
    {
      "cell_type": "code",
      "metadata": {
        "id": "yCoYYN-jlY48"
      },
      "source": [
        "#write a program to reverse a list\r\n",
        "def reverse_list(list):\r\n",
        "  return(list[::-1])\r\n"
      ],
      "execution_count": null,
      "outputs": []
    },
    {
      "cell_type": "code",
      "metadata": {
        "colab": {
          "base_uri": "https://localhost:8080/"
        },
        "id": "6fSyT4pwl-1j",
        "outputId": "c9d3f63c-51ca-4748-b791-efa810b6ae03"
      },
      "source": [
        "list=[3,4,6,8]\r\n",
        "print(reverse_list(list))"
      ],
      "execution_count": null,
      "outputs": [
        {
          "output_type": "stream",
          "text": [
            "[8, 6, 4, 3]\n"
          ],
          "name": "stdout"
        }
      ]
    },
    {
      "cell_type": "markdown",
      "metadata": {
        "id": "hjFtCvsQoO_b"
      },
      "source": [
        "Program-9"
      ]
    },
    {
      "cell_type": "code",
      "metadata": {
        "id": "SmvUMA_4mKjd"
      },
      "source": [
        "#write a function to sort list\r\n",
        "def sort_list(list):\r\n",
        "  list.sort()\r\n",
        "  return list"
      ],
      "execution_count": null,
      "outputs": []
    },
    {
      "cell_type": "code",
      "metadata": {
        "colab": {
          "base_uri": "https://localhost:8080/"
        },
        "id": "AS4xcdcImxIj",
        "outputId": "cbd5d15d-7e5f-43b7-ca63-38f0d9ecc6bd"
      },
      "source": [
        "list = [\"hello\",\"world\",\"apple\",\"banana\",\"lemon\"]\r\n",
        "print(sort_list(list))\r\n",
        "list"
      ],
      "execution_count": null,
      "outputs": [
        {
          "output_type": "stream",
          "text": [
            "['apple', 'banana', 'hello', 'lemon', 'world']\n"
          ],
          "name": "stdout"
        },
        {
          "output_type": "execute_result",
          "data": {
            "text/plain": [
              "['apple', 'banana', 'hello', 'lemon', 'world']"
            ]
          },
          "metadata": {
            "tags": []
          },
          "execution_count": 50
        }
      ]
    },
    {
      "cell_type": "code",
      "metadata": {
        "id": "ANtGsYvCoTey"
      },
      "source": [
        ""
      ],
      "execution_count": null,
      "outputs": []
    },
    {
      "cell_type": "code",
      "metadata": {
        "id": "ApVJK8QcnpcM"
      },
      "source": [
        ""
      ],
      "execution_count": null,
      "outputs": []
    },
    {
      "cell_type": "markdown",
      "metadata": {
        "id": "_V8RvMzYoKK7"
      },
      "source": [
        "Program - 10"
      ]
    },
    {
      "cell_type": "code",
      "metadata": {
        "id": "_wvOH4DuoVZS"
      },
      "source": [
        "#write a program to find the largest element in a list\r\n",
        "def list_max(list):\r\n",
        "  list.sort()\r\n",
        "  return list[-1]"
      ],
      "execution_count": null,
      "outputs": []
    },
    {
      "cell_type": "code",
      "metadata": {
        "colab": {
          "base_uri": "https://localhost:8080/"
        },
        "id": "JvpGBbvDo8n1",
        "outputId": "59fbc608-c14f-477a-bd0d-dd30ec2a4365"
      },
      "source": [
        "list = [99,56,34,101,34]\r\n",
        "print(list_max(list))"
      ],
      "execution_count": null,
      "outputs": [
        {
          "output_type": "stream",
          "text": [
            "101\n"
          ],
          "name": "stdout"
        }
      ]
    },
    {
      "cell_type": "markdown",
      "metadata": {
        "id": "_LnV8K9LpQlK"
      },
      "source": [
        "Program -11"
      ]
    },
    {
      "cell_type": "code",
      "metadata": {
        "id": "aoj7OeuVpQWi"
      },
      "source": [
        "#write a program to concatenate two lists\r\n",
        "def list_concat(list1,list2):\r\n",
        "  res_list = [y for x in [list1, list2] for y in x] \r\n",
        "  return res_list"
      ],
      "execution_count": null,
      "outputs": []
    },
    {
      "cell_type": "code",
      "metadata": {
        "colab": {
          "base_uri": "https://localhost:8080/"
        },
        "id": "sAXgTuoLpP2D",
        "outputId": "41a29623-88c9-4374-c2ba-88b534bd9f12"
      },
      "source": [
        "list1 = [\"happy Deepavali to \"]\r\n",
        "list2=[\"Everyone in this world\"]\r\n",
        "print(list_concat(list1,list2))"
      ],
      "execution_count": null,
      "outputs": [
        {
          "output_type": "stream",
          "text": [
            "['happy Deepavali to ', 'Everyone in this world']\n"
          ],
          "name": "stdout"
        }
      ]
    },
    {
      "cell_type": "markdown",
      "metadata": {
        "id": "FVOxev2fqnGU"
      },
      "source": [
        "Program -12"
      ]
    },
    {
      "cell_type": "code",
      "metadata": {
        "id": "Nq6FeZ9eqqIK"
      },
      "source": [
        "#write a program to split a string\r\n",
        "def multiply_numbers(int1,int2):\r\n",
        "  return(int1 * int2)\r\n",
        "  \r\n"
      ],
      "execution_count": 1,
      "outputs": []
    },
    {
      "cell_type": "code",
      "metadata": {
        "colab": {
          "base_uri": "https://localhost:8080/"
        },
        "id": "y6v64t5QRRib",
        "outputId": "54e49b8f-1115-4678-83ae-a8ea54333929"
      },
      "source": [
        "int1=4;\r\n",
        "int2=8;\r\n",
        "int3=multiply_numbers(int1,int2)\r\n",
        "print(int3)"
      ],
      "execution_count": 3,
      "outputs": [
        {
          "output_type": "stream",
          "text": [
            "32\n"
          ],
          "name": "stdout"
        }
      ]
    },
    {
      "cell_type": "markdown",
      "metadata": {
        "id": "rKxFs5MFrhDr"
      },
      "source": [
        "Program-13"
      ]
    },
    {
      "cell_type": "code",
      "metadata": {
        "id": "iGFZwKMgrj9d"
      },
      "source": [
        "#write a program to find a word in string\r\n",
        "def find_word(string,word):\r\n",
        "  index = string.find(word)\r\n",
        "  if(index == -1):\r\n",
        "    return False\r\n",
        "  else:\r\n",
        "    return True\r\n"
      ],
      "execution_count": null,
      "outputs": []
    },
    {
      "cell_type": "code",
      "metadata": {
        "colab": {
          "base_uri": "https://localhost:8080/"
        },
        "id": "Kg0TxsXvsXdL",
        "outputId": "64349006-87f3-4a05-84fa-e454d7af4f3c"
      },
      "source": [
        "string = \"Today is a very cool day\"\r\n",
        "word = \"bad\"\r\n",
        "print(find_word(string,word))"
      ],
      "execution_count": null,
      "outputs": [
        {
          "output_type": "stream",
          "text": [
            "False\n"
          ],
          "name": "stdout"
        }
      ]
    },
    {
      "cell_type": "markdown",
      "metadata": {
        "id": "4CQPvalHNjKG"
      },
      "source": [
        "Program 14"
      ]
    },
    {
      "cell_type": "code",
      "metadata": {
        "id": "rHlbGsi9NltX"
      },
      "source": [
        "#write a program to find the length of the list\r\n",
        "def list_len(lst):\r\n",
        "  return len(lst)"
      ],
      "execution_count": null,
      "outputs": []
    },
    {
      "cell_type": "code",
      "metadata": {
        "colab": {
          "base_uri": "https://localhost:8080/"
        },
        "id": "vqcxMauGNXiQ",
        "outputId": "4ea75c2d-d48d-46c9-bd84-837ae981bfef"
      },
      "source": [
        "names=[\"ranjini\", \"Subodh\", \"Bharathi\",\"Pratham\",\"Pratheek\"]\r\n",
        "print(list_len(names))"
      ],
      "execution_count": null,
      "outputs": [
        {
          "output_type": "stream",
          "text": [
            "5\n"
          ],
          "name": "stdout"
        }
      ]
    },
    {
      "cell_type": "markdown",
      "metadata": {
        "id": "ndFvK2MuQhDO"
      },
      "source": [
        "Program 15"
      ]
    },
    {
      "cell_type": "code",
      "metadata": {
        "id": "dkowMbYOQp3p"
      },
      "source": [
        "#write a program to sort the list in reverse order\r\n",
        "def sort_reverse(lst):\r\n",
        "  lst.sort(reverse=true)\r\n",
        "  return lst"
      ],
      "execution_count": null,
      "outputs": []
    },
    {
      "cell_type": "code",
      "metadata": {
        "id": "rFDebgWTUFlR"
      },
      "source": [
        "lst = [\"67,89,23,45,2,789,29\"]\r\n",
        "rev_list = sort_reverse(lst)\r\n"
      ],
      "execution_count": null,
      "outputs": []
    },
    {
      "cell_type": "markdown",
      "metadata": {
        "id": "r4zaZlH61KTn"
      },
      "source": [
        "Program 16"
      ]
    },
    {
      "cell_type": "code",
      "metadata": {
        "id": "IesQSrqs1MD2"
      },
      "source": [
        "#write a program to print even numbers in a list"
      ],
      "execution_count": null,
      "outputs": []
    },
    {
      "cell_type": "code",
      "metadata": {
        "id": "KtwXffpW1T44"
      },
      "source": [
        "def list_even_numbers(list):\r\n",
        "  even_numbers = [num for num in list if num%2 == 0]\r\n",
        "  return even_numbers"
      ],
      "execution_count": null,
      "outputs": []
    },
    {
      "cell_type": "code",
      "metadata": {
        "colab": {
          "base_uri": "https://localhost:8080/"
        },
        "id": "RHa2tcB81wVu",
        "outputId": "28be1132-5973-4c31-8553-7d5debbf7035"
      },
      "source": [
        "lst = [23,45,67,88,21,34,12,0]\r\n",
        "print(list_even_numbers(lst))"
      ],
      "execution_count": null,
      "outputs": [
        {
          "output_type": "stream",
          "text": [
            "[88, 34, 12, 0]\n"
          ],
          "name": "stdout"
        }
      ]
    },
    {
      "cell_type": "markdown",
      "metadata": {
        "id": "fp-iWmeV3uJf"
      },
      "source": [
        ""
      ]
    },
    {
      "cell_type": "markdown",
      "metadata": {
        "id": "uCYZ6bE8192u"
      },
      "source": [
        "Program 17"
      ]
    },
    {
      "cell_type": "code",
      "metadata": {
        "id": "y4cxRh3Q2OL2"
      },
      "source": [
        "#Write a program to eliminate duplicates in a list\r\n",
        "def remove_duplicates(lst):\r\n",
        "  duplicates_removed =[]\r\n",
        "  for i in lst:\r\n",
        "    if i not in duplicates_removed:\r\n",
        "      duplicates_removed.append(i)\r\n",
        "  return duplicates_removed\r\n",
        "\r\n"
      ],
      "execution_count": null,
      "outputs": []
    },
    {
      "cell_type": "code",
      "metadata": {
        "id": "GcUoz-ek40K2"
      },
      "source": [
        "#write a program to eliminate duplicates in list using list comprehension\r\n",
        "def remove_duplicates_list_comprehension(lst):\r\n",
        "  removed=[]\r\n",
        "  [removed.append(x) for x in lst if x not in removed]\r\n",
        "  return removed"
      ],
      "execution_count": null,
      "outputs": []
    },
    {
      "cell_type": "code",
      "metadata": {
        "colab": {
          "base_uri": "https://localhost:8080/"
        },
        "id": "sOux-iGY4Tin",
        "outputId": "23e23350-032c-4fdc-c4f8-a00f226c68d6"
      },
      "source": [
        "lst = [4,67,8,4,32,3,2,7,67]\r\n",
        "print(remove_duplicates(lst))"
      ],
      "execution_count": null,
      "outputs": [
        {
          "output_type": "stream",
          "text": [
            "[4, 67, 8, 32, 3, 2, 7]\n"
          ],
          "name": "stdout"
        }
      ]
    },
    {
      "cell_type": "code",
      "metadata": {
        "colab": {
          "base_uri": "https://localhost:8080/"
        },
        "id": "1cOc79Mm5LZ_",
        "outputId": "78b26d03-94ea-4592-eee1-5f3d4393d62f"
      },
      "source": [
        "print(remove_duplicates_list_comprehension(lst))"
      ],
      "execution_count": null,
      "outputs": [
        {
          "output_type": "stream",
          "text": [
            "[4, 67, 8, 32, 3, 2, 7]\n"
          ],
          "name": "stdout"
        }
      ]
    },
    {
      "cell_type": "markdown",
      "metadata": {
        "id": "-zIkxmJL4jwg"
      },
      "source": [
        "Program 18"
      ]
    },
    {
      "cell_type": "code",
      "metadata": {
        "id": "li_M7XVI6EEH"
      },
      "source": [
        "#write a program to find the smallest number in a list\r\n",
        "def find_smallest(lst):\r\n",
        "  return(min(lst))"
      ],
      "execution_count": null,
      "outputs": []
    },
    {
      "cell_type": "code",
      "metadata": {
        "colab": {
          "base_uri": "https://localhost:8080/"
        },
        "id": "VS8quWRP6TOG",
        "outputId": "810b7309-6150-4e17-c963-ad12281216d2"
      },
      "source": [
        "lst = [23,43,12,8,345,675,2345,32,4,5,56]\r\n",
        "print(find_smallest(lst))"
      ],
      "execution_count": null,
      "outputs": [
        {
          "output_type": "stream",
          "text": [
            "4\n"
          ],
          "name": "stdout"
        }
      ]
    },
    {
      "cell_type": "markdown",
      "metadata": {
        "id": "XXJ4fjT86g1H"
      },
      "source": [
        "Program 19"
      ]
    },
    {
      "cell_type": "code",
      "metadata": {
        "id": "8z8IaPeR6gHX"
      },
      "source": [
        "#write a program to convert list to string\r\n",
        "def list_to_string(lst):\r\n",
        "  list_str = ''.join(str(x) for x in lst)\r\n",
        "  return list_str\r\n"
      ],
      "execution_count": null,
      "outputs": []
    },
    {
      "cell_type": "code",
      "metadata": {
        "colab": {
          "base_uri": "https://localhost:8080/"
        },
        "id": "rRKV5pmG7Udo",
        "outputId": "a8f683b8-e7f0-4142-fbe5-4c89cc0ce068"
      },
      "source": [
        "lst = [\"abc\",\"cde\",\"efg\",\"ghi\"]\r\n",
        "print(list_to_string(lst))"
      ],
      "execution_count": null,
      "outputs": [
        {
          "output_type": "stream",
          "text": [
            "abccdeefgghi\n"
          ],
          "name": "stdout"
        }
      ]
    },
    {
      "cell_type": "markdown",
      "metadata": {
        "id": "YDufSLiv8rWG"
      },
      "source": [
        "Program 20"
      ]
    },
    {
      "cell_type": "code",
      "metadata": {
        "id": "C09gD-7d7lNP"
      },
      "source": [
        "#write a program to double each element in the list\r\n",
        "def addition(n):\r\n",
        "  return n+n\r\n",
        "def double_element(lst):\r\n",
        "  result = map(addition,lst)\r\n",
        "  return result"
      ],
      "execution_count": null,
      "outputs": []
    },
    {
      "cell_type": "code",
      "metadata": {
        "id": "LJ449Bq7-IJw"
      },
      "source": [
        "def double_element_using_lambda(lst):\r\n",
        "  result = map(lambda x:x+x,lst)\r\n",
        "  return result"
      ],
      "execution_count": null,
      "outputs": []
    },
    {
      "cell_type": "code",
      "metadata": {
        "colab": {
          "base_uri": "https://localhost:8080/"
        },
        "id": "6OWjfZEl9P7f",
        "outputId": "e2e31343-c377-4f2a-fb05-6c692a11ec22"
      },
      "source": [
        "lst=['a','b','c','d']\r\n",
        "print(list(double_element(lst)))"
      ],
      "execution_count": null,
      "outputs": [
        {
          "output_type": "stream",
          "text": [
            "['aa', 'bb', 'cc', 'dd']\n"
          ],
          "name": "stdout"
        }
      ]
    },
    {
      "cell_type": "code",
      "metadata": {
        "colab": {
          "base_uri": "https://localhost:8080/"
        },
        "id": "W9r4G9n6-YvQ",
        "outputId": "c9841383-ffb4-4c8e-c095-373fcb5238a9"
      },
      "source": [
        "print(list(double_element_using_lambda(lst)))"
      ],
      "execution_count": null,
      "outputs": [
        {
          "output_type": "stream",
          "text": [
            "['aa', 'bb', 'cc', 'dd']\n"
          ],
          "name": "stdout"
        }
      ]
    },
    {
      "cell_type": "markdown",
      "metadata": {
        "id": "n7oZTu_X_RDQ"
      },
      "source": [
        "Program 21"
      ]
    },
    {
      "cell_type": "code",
      "metadata": {
        "id": "HQXA6HOQ_QXg"
      },
      "source": [
        "#write a program to add corresponding elemnts of  lists using map and lambda\r\n",
        "def add_lists(list1, list2):\r\n",
        "  add_list = map(lambda x,y:x+y,list1,list2)\r\n",
        "  return(list(add_list))"
      ],
      "execution_count": null,
      "outputs": []
    },
    {
      "cell_type": "code",
      "metadata": {
        "colab": {
          "base_uri": "https://localhost:8080/"
        },
        "id": "2xD3-25xAnkX",
        "outputId": "7f947ed6-2f9e-4a0d-a508-188aa1f90e1f"
      },
      "source": [
        "lst1=[4,5,6]\r\n",
        "lst2=[1,2,3]\r\n",
        "print(add_lists(lst1,lst2))"
      ],
      "execution_count": null,
      "outputs": [
        {
          "output_type": "stream",
          "text": [
            "[5, 7, 9]\n"
          ],
          "name": "stdout"
        }
      ]
    },
    {
      "cell_type": "markdown",
      "metadata": {
        "id": "lXUCFHxQA4V4"
      },
      "source": [
        "Program 22"
      ]
    },
    {
      "cell_type": "code",
      "metadata": {
        "id": "aA1wTrO6BBni"
      },
      "source": [
        "#write a program to listfy the strings individually\r\n",
        "def listify_strings(lst):\r\n",
        "  lst = map(list,lst)\r\n",
        "  return list(lst)"
      ],
      "execution_count": null,
      "outputs": []
    },
    {
      "cell_type": "code",
      "metadata": {
        "colab": {
          "base_uri": "https://localhost:8080/"
        },
        "id": "zFgGLTk6B-_X",
        "outputId": "2cb714fb-f0bc-49b2-c285-5fc0d305eb46"
      },
      "source": [
        "lst=[\"hello\",\"world\",\"good\",\"day\"]\r\n",
        "print(listify_strings(lst))"
      ],
      "execution_count": null,
      "outputs": [
        {
          "output_type": "stream",
          "text": [
            "[['h', 'e', 'l', 'l', 'o'], ['w', 'o', 'r', 'l', 'd'], ['g', 'o', 'o', 'd'], ['d', 'a', 'y']]\n"
          ],
          "name": "stdout"
        }
      ]
    },
    {
      "cell_type": "markdown",
      "metadata": {
        "id": "g-MF1VNwCclJ"
      },
      "source": [
        "Program 23"
      ]
    },
    {
      "cell_type": "code",
      "metadata": {
        "id": "zB2_djutCcRn"
      },
      "source": [
        "#write a program to replace one string with another string\r\n",
        "def string_replace(str,old_string,new_string):\r\n",
        "  print(old_string)\r\n",
        "  print(new_string)\r\n",
        "  print(str)\r\n",
        "  new_str = str.replace(\"summer\",\"winter\")\r\n",
        "  print(new_str)\r\n",
        "  return new_str\r\n"
      ],
      "execution_count": null,
      "outputs": []
    },
    {
      "cell_type": "code",
      "metadata": {
        "colab": {
          "base_uri": "https://localhost:8080/"
        },
        "id": "1zeZDniNEO8A",
        "outputId": "15150d49-b0b4-4105-cc0a-e807584794cf"
      },
      "source": [
        "str = \"Its a wonderful summer this year\"\r\n",
        "print(string_replace(str,\"summer\",\"winter\"))"
      ],
      "execution_count": null,
      "outputs": [
        {
          "output_type": "stream",
          "text": [
            "summer\n",
            "winter\n",
            "Its a wonderful summer this year\n",
            "Its a wonderful winter this year\n",
            "Its a wonderful winter this year\n"
          ],
          "name": "stdout"
        }
      ]
    },
    {
      "cell_type": "code",
      "metadata": {
        "id": "80FiTTw7F5EQ"
      },
      "source": [
        ""
      ],
      "execution_count": null,
      "outputs": []
    }
  ]
}